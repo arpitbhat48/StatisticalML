{
 "cells": [
  {
   "cell_type": "code",
   "execution_count": 4,
   "id": "f99534ad-e0cd-4e44-b027-4a78f5b1b397",
   "metadata": {},
   "outputs": [],
   "source": [
    "import numpy as np"
   ]
  },
  {
   "cell_type": "code",
   "execution_count": 6,
   "id": "ceb7afcf-fae7-4836-acee-3565b9f80eae",
   "metadata": {},
   "outputs": [],
   "source": [
    "A = np.array([[1, 0, 2], [3, 1, 2], [1, 2, 2]])\n",
    "b = np.transpose(np.array([1, -2, 1]))\n",
    "c = np.transpose(np.ones(3))"
   ]
  },
  {
   "cell_type": "markdown",
   "id": "deda9fa5-7590-4b22-af1c-a473dd11b864",
   "metadata": {},
   "source": [
    "***\n",
    "<h4> 11 a. Evaluate A<sup>-1</sup>  </h4>\n"
   ]
  },
  {
   "cell_type": "code",
   "execution_count": 9,
   "id": "b04016ce-6726-4f05-8619-3aff982ea12c",
   "metadata": {},
   "outputs": [],
   "source": [
    "InvA = np.linalg.inv(A)"
   ]
  },
  {
   "cell_type": "code",
   "execution_count": 11,
   "id": "c7682a8f-a2f5-4dd2-8c4c-12b5551f1199",
   "metadata": {},
   "outputs": [
    {
     "data": {
      "text/plain": [
       "array([[-0.25 ,  0.5  , -0.25 ],\n",
       "       [-0.5  ,  0.   ,  0.5  ],\n",
       "       [ 0.625, -0.25 ,  0.125]])"
      ]
     },
     "execution_count": 11,
     "metadata": {},
     "output_type": "execute_result"
    }
   ],
   "source": [
    "InvA"
   ]
  },
  {
   "cell_type": "markdown",
   "id": "5f80de3f-9457-49fe-98b1-ce22b0ad66d0",
   "metadata": {},
   "source": [
    "***\n",
    "<h4> 11 b. Computing A<sup>-1</sup> b </h4>\n"
   ]
  },
  {
   "cell_type": "code",
   "execution_count": 14,
   "id": "6d4f3a01-e271-444a-980c-8779c2511a5d",
   "metadata": {},
   "outputs": [
    {
     "name": "stdout",
     "output_type": "stream",
     "text": [
      "[[-0.25  -1.    -0.25 ]\n",
      " [-0.5   -0.     0.5  ]\n",
      " [ 0.625  0.5    0.125]]\n"
     ]
    }
   ],
   "source": [
    "# InvA * b \n",
    "print(InvA * b)"
   ]
  },
  {
   "cell_type": "markdown",
   "id": "102bc84d-6775-4c37-b65e-df12e4b1dfd2",
   "metadata": {},
   "source": [
    "***\n",
    "<h4> 11 b. Computing A<sup>-1</sup> c </h4>\n"
   ]
  },
  {
   "cell_type": "code",
   "execution_count": 17,
   "id": "8f586aa9-f059-409f-8347-feeed15318e5",
   "metadata": {},
   "outputs": [
    {
     "name": "stdout",
     "output_type": "stream",
     "text": [
      "[[1. 0. 2.]\n",
      " [3. 1. 2.]\n",
      " [1. 2. 2.]]\n"
     ]
    }
   ],
   "source": [
    "# A * c \n",
    "print(A * c)"
   ]
  },
  {
   "cell_type": "code",
   "execution_count": null,
   "id": "6f6730fc-a8cb-49b8-b894-b8aeb232a31d",
   "metadata": {},
   "outputs": [],
   "source": []
  }
 ],
 "metadata": {
  "kernelspec": {
   "display_name": "anaconda-panel-2023.05-py310",
   "language": "python",
   "name": "conda-env-anaconda-panel-2023.05-py310-py"
  },
  "language_info": {
   "codemirror_mode": {
    "name": "ipython",
    "version": 3
   },
   "file_extension": ".py",
   "mimetype": "text/x-python",
   "name": "python",
   "nbconvert_exporter": "python",
   "pygments_lexer": "ipython3",
   "version": "3.11.4"
  }
 },
 "nbformat": 4,
 "nbformat_minor": 5
}
